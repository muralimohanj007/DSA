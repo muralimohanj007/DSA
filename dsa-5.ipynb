{
 "cells": [
  {
   "cell_type": "markdown",
   "id": "744f7d9b",
   "metadata": {},
   "source": [
    "Convert 1D Array Into 2D Array\n",
    "\n",
    "You are given a **0-indexed** 1-dimensional (1D) integer array original, and two integers, m and n. You are tasked with creating a 2-dimensional (2D) array with  m rows and n columns using **all** the elements from original.\n",
    "\n",
    "The elements from indices 0 to n - 1 (**inclusive**) of original should form the first row of the constructed 2D array, the elements from indices n to 2 * n - 1 (**inclusive**) should form the second row of the constructed 2D array, and so on.\n",
    "\n",
    "Return *an* m x n *2D array constructed according to the above procedure, or an empty 2D array if it is impossible*."
   ]
  },
  {
   "cell_type": "code",
   "execution_count": 4,
   "id": "0d61900b",
   "metadata": {},
   "outputs": [
    {
     "name": "stdout",
     "output_type": "stream",
     "text": [
      "[[1, 2], [3, 4]]\n"
     ]
    }
   ],
   "source": [
    "def convertArray(nums,m,n):\n",
    "    if len(nums)!=m*n:\n",
    "        return []\n",
    "    res = [[0]*n for _ in range(m) ]\n",
    "    for i in range(len(nums)):\n",
    "        row = i//2\n",
    "        col = i%2\n",
    "        res[row][col]= nums[i]\n",
    "    return res\n",
    "print(convertArray([1,2,3,4],2,2))"
   ]
  },
  {
   "cell_type": "markdown",
   "id": "11d29c83",
   "metadata": {},
   "source": [
    "You have n coins and you want to build a staircase with these coins. The staircase consists of k rows where the ith row has exactly i coins. The last row of the staircase **may be** incomplete.\n",
    "\n",
    "Given the integer n, return *the number of **complete rows** of the staircase you will build*."
   ]
  },
  {
   "cell_type": "code",
   "execution_count": 6,
   "id": "3874998a",
   "metadata": {},
   "outputs": [
    {
     "name": "stdout",
     "output_type": "stream",
     "text": [
      "2\n"
     ]
    }
   ],
   "source": [
    "def findincomplete(n):\n",
    "    k=0\n",
    "    while k * (k+1)//2<=n:\n",
    "        k+=1\n",
    "    return k-1\n",
    "print(findincomplete(5))"
   ]
  },
  {
   "cell_type": "markdown",
   "id": "40b1636a",
   "metadata": {},
   "source": [
    "Given an integer array nums sorted in **non-decreasing** order, return *an array of **the squares of each number** sorted in non-decreasing order*.\n",
    "\n",
    "**Example 1:**\n",
    "\n",
    "**Input:** nums = [-4,-1,0,3,10]\n",
    "\n",
    "**Output:** [0,1,9,16,100]\n",
    "\n",
    "**Explanation:** After squaring, the array becomes [16,1,0,9,100].\n",
    "\n",
    "After sorting, it becomes [0,1,9,16,100]."
   ]
  },
  {
   "cell_type": "code",
   "execution_count": 7,
   "id": "b68dca4f",
   "metadata": {},
   "outputs": [
    {
     "name": "stdout",
     "output_type": "stream",
     "text": [
      "[0, 1, 9, 16, 100]\n"
     ]
    }
   ],
   "source": [
    "def squares(nums):\n",
    "    res = []\n",
    "    for i in nums:\n",
    "        res.append(i*i)\n",
    "    res.sort()\n",
    "    return res\n",
    "print(squares([-4,-1,0,3,10]))"
   ]
  },
  {
   "cell_type": "markdown",
   "id": "f4dc82b0",
   "metadata": {},
   "source": [
    "<aside>\n",
    "💡 **Question 4**\n",
    "\n",
    "Given two **0-indexed** integer arrays nums1 and nums2, return *a list* answer *of size* 2 *where:*\n",
    "\n",
    "- answer[0] *is a list of all **distinct** integers in* nums1 *which are **not** present in* nums2*.*\n",
    "- answer[1] *is a list of all **distinct** integers in* nums2 *which are **not** present in* nums1.\n",
    "\n",
    "**Note** that the integers in the lists may be returned in **any** order.\n",
    "\n",
    "**Example 1:**\n",
    "\n",
    "**Input:** nums1 = [1,2,3], nums2 = [2,4,6]\n",
    "\n",
    "**Output:** [[1,3],[4,6]]\n",
    "\n",
    "**Explanation:**\n",
    "\n",
    "For nums1, nums1[1] = 2 is present at index 0 of nums2, whereas nums1[0] = 1 and nums1[2] = 3 are not present in nums2. Therefore, answer[0] = [1,3].\n",
    "\n",
    "For nums2, nums2[0] = 2 is present at index 1 of nums1, whereas nums2[1] = 4 and nums2[2] = 6 are not present in nums2. Therefore, answer[1] = [4,6].\n",
    "\n",
    "</aside>"
   ]
  },
  {
   "cell_type": "code",
   "execution_count": 9,
   "id": "49e3b1b1",
   "metadata": {},
   "outputs": [
    {
     "name": "stdout",
     "output_type": "stream",
     "text": [
      "[[1, 3], [4, 6]]\n"
     ]
    }
   ],
   "source": [
    "def findDistinct(nums1,nums2):\n",
    "    set1 = set(nums1)-set(nums2)\n",
    "    set2 = set(nums2)-set(nums1)\n",
    "    return [list(set1),list(set2)]\n",
    "print(findDistinct([1,2,3],[2,4,6]))"
   ]
  },
  {
   "cell_type": "markdown",
   "id": "201077b6",
   "metadata": {},
   "source": [
    "\n",
    "💡 **Question 5**\n",
    "\n",
    "Given two integer arrays arr1 and arr2, and the integer d, *return the distance value between the two arrays*.\n",
    "\n",
    "The distance value is defined as the number of elements arr1[i] such that there is not any element arr2[j] where |arr1[i]-arr2[j]| <= d.\n",
    "\n",
    "**Example 1:**\n",
    "\n",
    "**Input:** arr1 = [4,5,8], arr2 = [10,9,1,8], d = 2\n",
    "\n",
    "**Output:** 2\n",
    "\n",
    "**Explanation:**\n",
    "\n",
    "For arr1[0]=4 we have:\n",
    "\n",
    "|4-10|=6 > d=2\n",
    "\n",
    "|4-9|=5 > d=2\n",
    "\n",
    "|4-1|=3 > d=2\n",
    "\n",
    "|4-8|=4 > d=2\n",
    "\n",
    "For arr1[1]=5 we have:\n",
    "\n",
    "|5-10|=5 > d=2\n",
    "\n",
    "|5-9|=4 > d=2\n",
    "\n",
    "|5-1|=4 > d=2\n",
    "\n",
    "|5-8|=3 > d=2\n",
    "\n",
    "For arr1[2]=8 we have:\n",
    "\n",
    "**|8-10|=2 <= d=2**\n",
    "\n",
    "**|8-9|=1 <= d=2**\n",
    "\n",
    "|8-1|=7 > d=2\n",
    "\n",
    "**|8-8|=0 <= d=2**\n"
   ]
  },
  {
   "cell_type": "code",
   "execution_count": 11,
   "id": "4c9c853b",
   "metadata": {},
   "outputs": [
    {
     "name": "stdout",
     "output_type": "stream",
     "text": [
      "2\n"
     ]
    }
   ],
   "source": [
    "def findTheDistanceValue(arr1, arr2, d):\n",
    "    distance = 0\n",
    "\n",
    "    for num1 in arr1:\n",
    "        found = False\n",
    "\n",
    "        for num2 in arr2:\n",
    "            if abs(num1 - num2) <= d:\n",
    "                found = True\n",
    "                break\n",
    "\n",
    "        if not found:\n",
    "            distance += 1\n",
    "\n",
    "    return distance\n",
    "print(findTheDistanceValue([4,5,8],[10,9,1,8],2))"
   ]
  },
  {
   "cell_type": "markdown",
   "id": "3744876a",
   "metadata": {},
   "source": [
    "iven an integer array nums of length n where all the integers of nums are in the range [1, n] and each integer appears **once** or **twice**, return *an array of all the integers that appears **twice***.\n",
    "\n",
    "You must write an algorithm that runs in O(n) time and uses only constant extra space.\n",
    "\n",
    "**Example 1:**\n",
    "\n",
    "**Input:** nums = [4,3,2,7,8,2,3,1]\n",
    "\n",
    "**Output:**\n",
    "\n",
    "[2,3]"
   ]
  },
  {
   "cell_type": "code",
   "execution_count": 12,
   "id": "896b4236",
   "metadata": {},
   "outputs": [
    {
     "name": "stdout",
     "output_type": "stream",
     "text": [
      "[2, 3]\n"
     ]
    }
   ],
   "source": [
    "def findDuplicates(nums):\n",
    "    result = []\n",
    "    for num in nums:\n",
    "        idx = abs(num)\n",
    "        if nums[idx - 1] < 0:\n",
    "            result.append(idx)\n",
    "        else:\n",
    "            nums[idx - 1] *= -1\n",
    "\n",
    "    return result\n",
    "nums = [4, 3, 2, 7, 8, 2, 3, 1]\n",
    "result = findDuplicates(nums)\n",
    "print(result)\n"
   ]
  },
  {
   "cell_type": "markdown",
   "id": "8d116297",
   "metadata": {},
   "source": [
    "Suppose an array of length n sorted in ascending order is **rotated** between 1 and n times. For example, the array nums = [0,1,2,4,5,6,7] might become:\n",
    "\n",
    "- [4,5,6,7,0,1,2] if it was rotated 4 times.\n",
    "- [0,1,2,4,5,6,7] if it was rotated 7 times.\n",
    "\n",
    "Notice that **rotating** an array [a[0], a[1], a[2], ..., a[n-1]] 1 time results in the array [a[n-1], a[0], a[1], a[2], ..., a[n-2]].\n",
    "\n",
    "Given the sorted rotated array nums of **unique** elements, return *the minimum element of this array*.\n",
    "\n",
    "You must write an algorithm that runs in O(log n) time.\n",
    "\n",
    "**Example 1:**\n",
    "\n",
    "**Input:** nums = [3,4,5,1,2]\n",
    "\n",
    "**Output:** 1\n",
    "\n",
    "**Explanation:**\n",
    "\n",
    "The original array was [1,2,3,4,5] rotated 3 times."
   ]
  },
  {
   "cell_type": "code",
   "execution_count": 3,
   "id": "94cc16a4",
   "metadata": {},
   "outputs": [
    {
     "name": "stdout",
     "output_type": "stream",
     "text": [
      "1\n"
     ]
    }
   ],
   "source": [
    "def findMin(nums):\n",
    "    left = 0\n",
    "    right = len(nums) - 1\n",
    "\n",
    "    while left < right:\n",
    "        middle = (left + right) // 2\n",
    "\n",
    "        if nums[middle] > nums[right]:\n",
    "            left = middle + 1\n",
    "        else:\n",
    "            right = middle\n",
    "\n",
    "    return nums[left]\n",
    "nums = [3, 4, 5, 1, 2]\n",
    "print(findMin(nums))\n"
   ]
  },
  {
   "cell_type": "markdown",
   "id": "69f3f0da",
   "metadata": {},
   "source": [
    "\n",
    "💡 **Question 8**\n",
    "\n",
    "An integer array original is transformed into a **doubled** array changed by appending **twice the value** of every element in original, and then randomly **shuffling** the resulting array.\n",
    "\n",
    "Given an array changed, return original *if* changed *is a **doubled** array. If* changed *is not a **doubled** array, return an empty array. The elements in* original *may be returned in **any** order*.\n",
    "\n",
    "**Example 1:**\n",
    "\n",
    "**Input:** changed = [1,3,4,2,6,8]\n",
    "\n",
    "**Output:** [1,3,4]\n",
    "\n",
    "**Explanation:** One possible original array could be [1,3,4]:\n",
    "\n",
    "- Twice the value of 1 is 1 * 2 = 2.\n",
    "- Twice the value of 3 is 3 * 2 = 6.\n",
    "- Twice the value of 4 is 4 * 2 = 8.\n",
    "\n",
    "Other original arrays could be [4,3,1] or [3,1,4].\n",
    "\n"
   ]
  },
  {
   "cell_type": "code",
   "execution_count": 2,
   "id": "37052d0e",
   "metadata": {},
   "outputs": [
    {
     "name": "stdout",
     "output_type": "stream",
     "text": [
      "[1, 3, 4]\n"
     ]
    }
   ],
   "source": [
    "def findOriginalArray(changed):\n",
    "    changed.sort()\n",
    "    original = []\n",
    "\n",
    "    while changed:\n",
    "        num = changed.pop()\n",
    "        original_value = num // 2\n",
    "\n",
    "        if original_value * 2 != num or original_value not in changed:\n",
    "            return []\n",
    "\n",
    "        changed.remove(original_value)\n",
    "        original.append(original_value)\n",
    "\n",
    "    return original[::-1]\n",
    "\n",
    "changed = [1,3,4,2,6,8]\n",
    "print(findOriginalArray(changed))\n"
   ]
  }
 ],
 "metadata": {
  "kernelspec": {
   "display_name": "Python 3 (ipykernel)",
   "language": "python",
   "name": "python3"
  },
  "language_info": {
   "codemirror_mode": {
    "name": "ipython",
    "version": 3
   },
   "file_extension": ".py",
   "mimetype": "text/x-python",
   "name": "python",
   "nbconvert_exporter": "python",
   "pygments_lexer": "ipython3",
   "version": "3.9.12"
  }
 },
 "nbformat": 4,
 "nbformat_minor": 5
}
