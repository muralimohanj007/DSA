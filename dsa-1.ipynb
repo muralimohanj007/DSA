{
 "cells": [
  {
   "cell_type": "markdown",
   "id": "a4cd3cad",
   "metadata": {},
   "source": [
    "<aside>\n",
    "💡 **Q1.** Given an array of integers nums and an integer target, return indices of the two numbers such that they add up to target.\n",
    "\n",
    "You may assume that each input would have exactly one solution, and you may not use the same element twice.\n",
    "\n",
    "You can return the answer in any order.\n",
    "\n",
    "**Example:**\n",
    "Input: nums = [2,7,11,15], target = 9\n",
    "Output0 [0,1]\n",
    "\n",
    "**Explanation:** Because nums[0] + nums[1] == 9, we return [0, 1][\n",
    "\n",
    "</aside>"
   ]
  },
  {
   "cell_type": "code",
   "execution_count": 2,
   "id": "a1de436d",
   "metadata": {},
   "outputs": [
    {
     "name": "stdout",
     "output_type": "stream",
     "text": [
      "Enter the list of numbers separated by space: 2 7 11 15\n",
      "Enter targer variable : 9\n",
      "[1, 0]\n"
     ]
    }
   ],
   "source": [
    "lis = list(map(int,input(\"Enter the list of numbers separated by space: \").split()))\n",
    "target = int(input(\"Enter targer variable : \"))\n",
    "\n",
    "# ind,ind1=0,0\n",
    "for i in range(len(lis)):\n",
    "    for j in range(i):\n",
    "        if target == lis[i]+lis[j]:\n",
    "            ind,ind1=i,j\n",
    "\n",
    "print([ind,ind1])\n",
    "            "
   ]
  },
  {
   "cell_type": "markdown",
   "id": "55c77c44",
   "metadata": {},
   "source": [
    "<aside>\n",
    "💡 **Q2.** Given an integer array nums and an integer val, remove all occurrences of val in nums in-place. The order of the elements may be changed. Then return the number of elements in nums which are not equal to val.\n",
    "\n",
    "Consider the number of elements in nums which are not equal to val be k, to get accepted, you need to do the following things:\n",
    "\n",
    "- Change the array nums such that the first k elements of nums contain the elements which are not equal to val. The remaining elements of nums are not important as well as the size of nums.\n",
    "- Return k.\n",
    "\n",
    "**Example :**\n",
    "Input: nums = [3,2,2,3], val = 3\n",
    "Output: 2, nums = [2,2,_*,_*]\n",
    "\n",
    "**Explanation:** Your function should return k = 2, with the first two elements of nums being 2. It does not matter what you leave beyond the returned k (hence they are underscores)[\n",
    "\n",
    "</aside>"
   ]
  },
  {
   "cell_type": "code",
   "execution_count": 3,
   "id": "426d9314",
   "metadata": {},
   "outputs": [
    {
     "name": "stdout",
     "output_type": "stream",
     "text": [
      "2\n"
     ]
    }
   ],
   "source": [
    "def remove_all_occurances(li,val):\n",
    "    j=0\n",
    "    for i in range(len(li)):\n",
    "        if li[i]!=val:\n",
    "            li[j]=li[i]\n",
    "            j+=1   \n",
    "    return j\n",
    "\n",
    "li =  [3,2,2,3]\n",
    "val = 3\n",
    "print(remove_all_occurances(li,val))"
   ]
  },
  {
   "cell_type": "markdown",
   "id": "198409da",
   "metadata": {},
   "source": [
    "<aside>\n",
    "💡 Given a sorted array of distinct integers and a target value, return the index if the target is found. If not, return the index where it would be if it were inserted in order.\n",
    "\n",
    "You must write an algorithm with O(log n) runtime complexity.\n",
    "\n",
    "**Example 1:**\n",
    "Input: nums = [1,3,5,6], target = 5\n",
    "\n",
    "Output: 2\n",
    "\n",
    "</aside>"
   ]
  },
  {
   "cell_type": "code",
   "execution_count": 20,
   "id": "65895583",
   "metadata": {},
   "outputs": [
    {
     "name": "stdout",
     "output_type": "stream",
     "text": [
      "2\n"
     ]
    }
   ],
   "source": [
    "nums = [1,3,5,6]\n",
    "target = 5\n",
    "def findindex(nums,targe):\n",
    "    left =0\n",
    "    right = len(nums)-1\n",
    "    while left<=right:\n",
    "        mid = (left+right) //2 \n",
    "        if nums[mid]==targe:\n",
    "            return mid\n",
    "        elif targe<nums[mid]:\n",
    "            right = mid-1\n",
    "        else:\n",
    "            left = mid +1\n",
    "    return left\n",
    "print(findindex(nums,target))\n",
    "        "
   ]
  },
  {
   "cell_type": "code",
   "execution_count": null,
   "id": "8d8e94b0",
   "metadata": {},
   "outputs": [],
   "source": [
    "You are given a large integer represented as an integer array digits, where each digits[i] is the ith digit of the integer. The digits are ordered from most significant to least significant in left-to-right order. The large integer does not contain any leading 0's.\n",
    "\n",
    "Increment the large integer by one and return the resulting array of digits.\n",
    "\n",
    "**Example 1:**\n",
    "Input: digits = [1,2,3]\n",
    "Output: [1,2,4]\n",
    "\n",
    "**Explanation:** The array represents the integer 123.\n",
    "\n",
    "Incrementing by one gives 123 + 1 = 124.\n",
    "Thus, the result should be [1,2,4]."
   ]
  },
  {
   "cell_type": "code",
   "execution_count": 23,
   "id": "5d7a60cb",
   "metadata": {},
   "outputs": [
    {
     "name": "stdout",
     "output_type": "stream",
     "text": [
      "[1, 2, 4]\n"
     ]
    }
   ],
   "source": [
    "def addDigit(digits):\n",
    "    carry =1\n",
    "    for i in range(len(digits)-1,-1,-1):\n",
    "        sum = digits[i]+carry\n",
    "        digits[i]= sum%10\n",
    "        carry = sum //10\n",
    "        \n",
    "    if carry==1:\n",
    "        digits.insert(0,1)\n",
    "        \n",
    "    return digits\n",
    "print(addDigit([1,2,3]))"
   ]
  },
  {
   "cell_type": "markdown",
   "id": "3f1ff0b2",
   "metadata": {},
   "source": [
    "\n",
    "💡 **Q5.** You are given two integer arrays nums1 and nums2, sorted in non-decreasing order, and two integers m and n, representing the number of elements in nums1 and nums2 respectively.\n",
    "\n",
    "Merge nums1 and nums2 into a single array sorted in non-decreasing order.\n",
    "\n",
    "The final sorted array should not be returned by the function, but instead be stored inside the array nums1. To accommodate this, nums1 has a length of m + n, where the first m elements denote the elements that should be merged, and the last n elements are set to 0 and should be ignored. nums2 has a length of n.\n",
    "\n",
    "**Example 1:**\n",
    "Input: nums1 = [1,2,3,0,0,0], m = 3, nums2 = [2,5,6], n = 3\n",
    "Output: [1,2,2,3,5,6]\n",
    "\n",
    "**Explanation:** The arrays we are merging are [1,2,3] and [2,5,6].\n",
    "The result of the merge is [1,2,2,3,5,6] with the underlined elements coming from nums1.\n",
    "\n"
   ]
  },
  {
   "cell_type": "code",
   "execution_count": 26,
   "id": "a5741be1",
   "metadata": {},
   "outputs": [
    {
     "name": "stdout",
     "output_type": "stream",
     "text": [
      "[1, 2, 2, 3, 5, 6]\n"
     ]
    }
   ],
   "source": [
    "def mergeArray(nums1,nums2,m,n): \n",
    "    a= m-1\n",
    "    b = n-1\n",
    "    c = m+n-1\n",
    "    while a>=0 and b>=0:\n",
    "        if nums1[a]>=nums2[b]:\n",
    "            nums1[c]=nums1[a]\n",
    "            a-=1\n",
    "        else:\n",
    "            nums1[c]=nums2[b]\n",
    "            b-=1\n",
    "            \n",
    "        c-=1\n",
    "    return nums1\n",
    "nums1 = [1,2,3,0,0,0]\n",
    "m = 3\n",
    "nums2 = [2,5,6]\n",
    "n = 3\n",
    "print(mergeArray(nums1,nums2,m,n))\n"
   ]
  },
  {
   "cell_type": "markdown",
   "id": "09a62f8f",
   "metadata": {},
   "source": [
    " Given an integer array nums, return true if any value appears at least twice in the array, and return false if every element is distinct.\n",
    "\n",
    "**Example 1:**\n",
    "Input: nums = [1,2,3,1]\n",
    "\n",
    "Output: true\n",
    "\n"
   ]
  },
  {
   "cell_type": "code",
   "execution_count": 28,
   "id": "1e62baee",
   "metadata": {},
   "outputs": [
    {
     "name": "stdout",
     "output_type": "stream",
     "text": [
      "True\n"
     ]
    }
   ],
   "source": [
    "def isDistinctArray(nums):\n",
    "    distinc_nums = set()\n",
    "    for num in nums:\n",
    "        if num in distinc_nums:\n",
    "            return True\n",
    "        distinc_nums.add(num)\n",
    "    return False\n",
    "print(isDistinctArray([1,2,3,1]))"
   ]
  },
  {
   "cell_type": "markdown",
   "id": "c31329e1",
   "metadata": {},
   "source": [
    " Given an integer array nums, move all 0's to the end of it while maintaining the relative order of the nonzero elements.\n",
    "\n",
    "Note that you must do this in-place without making a copy of the array.\n",
    "\n",
    "**Example 1:**\n",
    "Input: nums = [0,1,0,3,12]\n",
    "Output: [1,3,12,0,0]\n",
    "\n"
   ]
  },
  {
   "cell_type": "code",
   "execution_count": 32,
   "id": "69248815",
   "metadata": {},
   "outputs": [
    {
     "name": "stdout",
     "output_type": "stream",
     "text": [
      "[1, 3, 12, 0, 0]\n"
     ]
    }
   ],
   "source": [
    "def move_zeros(nums):\n",
    "    j=0\n",
    "    for i in range(len(nums)):\n",
    "        if nums[i]!=0:\n",
    "            nums[j]=nums[i]\n",
    "            j+=1\n",
    "    nums[j:]=[0]*(len(nums)-j)\n",
    "    return nums\n",
    "print(move_zeros( [0,1,0,3,12]))"
   ]
  },
  {
   "cell_type": "markdown",
   "id": "4ce8e858",
   "metadata": {},
   "source": [
    "\n",
    "💡 You have a set of integers s, which originally contains all the numbers from 1 to n. Unfortunately, due to some error, one of the numbers in s got duplicated to another number in the set, which results in repetition of one number and loss of another number.\n",
    "\n",
    "You are given an integer array nums representing the data status of this set after the error.\n",
    "\n",
    "Find the number that occurs twice and the number that is missing and return them in the form of an array.\n",
    "\n",
    "**Example 1:**\n",
    "Input: nums = [1,2,2,4]\n",
    "Output: [2,3]\n",
    "\n"
   ]
  },
  {
   "cell_type": "code",
   "execution_count": 5,
   "id": "6b287fb6",
   "metadata": {},
   "outputs": [
    {
     "name": "stdout",
     "output_type": "stream",
     "text": [
      "[2, 3]\n"
     ]
    }
   ],
   "source": [
    "def findNumber(nums):\n",
    "    dup=0\n",
    "    mis=0\n",
    "    distinctnum= set()\n",
    "    for i in nums:\n",
    "        if i in distinctnum:\n",
    "            dup =i\n",
    "        distinctnum.add(i)\n",
    "    for i in range(1,len(nums)+1):\n",
    "        if i not in distinctnum:\n",
    "            mis=i\n",
    "            break\n",
    "    return [dup,mis]\n",
    "print(findNumber([1,2,2,4]))"
   ]
  }
 ],
 "metadata": {
  "kernelspec": {
   "display_name": "Python 3 (ipykernel)",
   "language": "python",
   "name": "python3"
  },
  "language_info": {
   "codemirror_mode": {
    "name": "ipython",
    "version": 3
   },
   "file_extension": ".py",
   "mimetype": "text/x-python",
   "name": "python",
   "nbconvert_exporter": "python",
   "pygments_lexer": "ipython3",
   "version": "3.9.12"
  }
 },
 "nbformat": 4,
 "nbformat_minor": 5
}
