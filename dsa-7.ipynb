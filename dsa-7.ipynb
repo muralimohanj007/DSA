{
 "cells": [
  {
   "cell_type": "markdown",
   "id": "cff3be00",
   "metadata": {},
   "source": [
    "Given two strings s and t, *determine if they are isomorphic*.\n",
    "\n",
    "Two strings s and t are isomorphic if the characters in s can be replaced to get t.\n",
    "\n",
    "All occurrences of a character must be replaced with another character while preserving the order of characters. No two characters may map to the same character, but a character may map to itself.\n",
    "\n",
    "**Example 1:**\n",
    "\n",
    "**Input:** s = \"egg\", t = \"add\"\n",
    "\n",
    "**Output:** true"
   ]
  },
  {
   "cell_type": "code",
   "execution_count": 1,
   "id": "1737609e",
   "metadata": {},
   "outputs": [
    {
     "name": "stdout",
     "output_type": "stream",
     "text": [
      "True\n"
     ]
    }
   ],
   "source": [
    "def isIsomorphic(s, t):\n",
    "    if len(s) != len(t):\n",
    "        return False\n",
    "\n",
    "    s_map = {}\n",
    "    t_map = {}\n",
    "\n",
    "    for s_char, t_char in zip(s, t):\n",
    "        if s_char not in s_map and t_char not in t_map:\n",
    "            s_map[s_char] = t_char\n",
    "            t_map[t_char] = s_char\n",
    "        elif s_map.get(s_char) != t_char or t_map.get(t_char) != s_char:\n",
    "            return False\n",
    "\n",
    "    return True\n",
    "s = \"egg\"\n",
    "t = \"add\"\n",
    "print(isIsomorphic(s, t)) \n"
   ]
  },
  {
   "cell_type": "markdown",
   "id": "669d2ee8",
   "metadata": {},
   "source": [
    "Given a string num which represents an integer, return true *if* num *is a **strobogrammatic number***.\n",
    "\n",
    "A **strobogrammatic number** is a number that looks the same when rotated 180 degrees (looked at upside down).\n",
    "\n",
    "**Example 1:**\n",
    "\n",
    "**Input:** num = \"69\"\n",
    "\n",
    "**Output:**\n",
    "\n",
    "true"
   ]
  },
  {
   "cell_type": "code",
   "execution_count": 3,
   "id": "ae92f17c",
   "metadata": {},
   "outputs": [
    {
     "name": "stdout",
     "output_type": "stream",
     "text": [
      "True\n"
     ]
    }
   ],
   "source": [
    "def isStrobogrammatic(num):\n",
    "    mapping = {'0': '0', '1': '1', '6': '9', '8': '8', '9': '6'}\n",
    "    left = 0\n",
    "    right = len(num) - 1\n",
    "\n",
    "    while left <= right:\n",
    "        if num[left] not in mapping or num[right] != mapping[num[left]]:\n",
    "            return False\n",
    "        left += 1\n",
    "        right -= 1\n",
    "\n",
    "    return True\n",
    "num = \"69\"\n",
    "print(isStrobogrammatic(num))  "
   ]
  },
  {
   "cell_type": "markdown",
   "id": "20210836",
   "metadata": {},
   "source": [
    "\n",
    "💡 **Question 3**\n",
    "\n",
    "Given two non-negative integers, num1 and num2 represented as string, return *the sum of* num1 *and* num2 *as a string*.\n",
    "\n",
    "You must solve the problem without using any built-in library for handling large integers (such as BigInteger). You must also not convert the inputs to integers directly.\n",
    "\n",
    "**Example 1:**\n",
    "\n",
    "**Input:** num1 = \"11\", num2 = \"123\"\n",
    "\n",
    "**Output:**\n",
    "\n",
    "\"134\"\n"
   ]
  },
  {
   "cell_type": "code",
   "execution_count": 4,
   "id": "baae2030",
   "metadata": {},
   "outputs": [
    {
     "name": "stdout",
     "output_type": "stream",
     "text": [
      "134\n"
     ]
    }
   ],
   "source": [
    "def addStrings(num1, num2):\n",
    "    result = \"\"\n",
    "    i = len(num1) - 1\n",
    "    j = len(num2) - 1\n",
    "    carry = 0\n",
    "\n",
    "    while i >= 0 or j >= 0:\n",
    "        x = int(num1[i]) if i >= 0 else 0\n",
    "        y = int(num2[j]) if j >= 0 else 0\n",
    "\n",
    "        digit = (x + y + carry) % 10\n",
    "        carry = (x + y + carry) // 10\n",
    "\n",
    "        result = str(digit) + result\n",
    "\n",
    "        i -= 1\n",
    "        j -= 1\n",
    "\n",
    "    if carry > 0:\n",
    "        result = str(carry) + result\n",
    "\n",
    "    return result\n",
    "num1 = \"11\"\n",
    "num2 = \"123\"\n",
    "print(addStrings(num1, num2)) \n"
   ]
  },
  {
   "cell_type": "markdown",
   "id": "7a2e792e",
   "metadata": {},
   "source": [
    "\n",
    "💡 **Question 4**\n",
    "\n",
    "Given a string s, reverse the order of characters in each word within a sentence while still preserving whitespace and initial word order.\n",
    "\n",
    "**Example 1:**\n",
    "\n",
    "**Input:** s = \"Let's take LeetCode contest\"\n",
    "\n",
    "**Output:** \"s'teL ekat edoCteeL tsetnoc\"\n",
    "\n"
   ]
  },
  {
   "cell_type": "code",
   "execution_count": 7,
   "id": "34815c14",
   "metadata": {},
   "outputs": [
    {
     "name": "stdout",
     "output_type": "stream",
     "text": [
      "s'teL ekat edoCteeL tsetnoc\n"
     ]
    }
   ],
   "source": [
    "def reverseString(str):\n",
    "    words = str.split()\n",
    "    reversedwords=[]\n",
    "    for word in words:\n",
    "        word = word[::-1]\n",
    "        reversedwords.append(word)\n",
    "    res = \" \".join(reversedwords)\n",
    "    return res\n",
    "s = \"Let's take LeetCode contest\"\n",
    "print(reverseString(s))"
   ]
  },
  {
   "cell_type": "markdown",
   "id": "a11ff3cc",
   "metadata": {},
   "source": [
    "\n",
    "💡 **Question 5**\n",
    "\n",
    "Given a string s and an integer k, reverse the first k characters for every 2k characters counting from the start of the string.\n",
    "\n",
    "If there are fewer than k characters left, reverse all of them. If there are less than 2k but greater than or equal to k characters, then reverse the first k characters and leave the other as original.\n",
    "\n",
    "**Example 1:**\n",
    "\n",
    "**Input:** s = \"abcdefg\", k = 2\n",
    "\n",
    "**Output:**\n",
    "\n",
    "\"bacdfeg\"\n",
    "\n"
   ]
  },
  {
   "cell_type": "code",
   "execution_count": 8,
   "id": "4103ff11",
   "metadata": {},
   "outputs": [
    {
     "name": "stdout",
     "output_type": "stream",
     "text": [
      "bacdfeg\n"
     ]
    }
   ],
   "source": [
    "def reverseStr(s, k):\n",
    "    s = list(s)\n",
    "    n = len(s)\n",
    "\n",
    "    for i in range(0, n, 2 * k):\n",
    "        left = i\n",
    "        right = min(i + k - 1, n - 1)\n",
    "\n",
    "        while left < right:\n",
    "            s[left], s[right] = s[right], s[left]\n",
    "            left += 1\n",
    "            right -= 1\n",
    "\n",
    "    return \"\".join(s)\n",
    "s = \"abcdefg\"\n",
    "k = 2\n",
    "print(reverseStr(s, k))  #\n"
   ]
  },
  {
   "cell_type": "markdown",
   "id": "5c0bd8cf",
   "metadata": {},
   "source": [
    "\n",
    " **Question 6**\n",
    "\n",
    "Given two strings s and goal, return true *if and only if* s *can become* goal *after some number of **shifts** on* s.\n",
    "\n",
    "A **shift** on s consists of moving the leftmost character of s to the rightmost position.\n",
    "\n",
    "- For example, if s = \"abcde\", then it will be \"bcdea\" after one shift.\n",
    "\n",
    "**Example 1:**\n",
    "\n",
    "**Input:** s = \"abcde\", goal = \"cdeab\"\n",
    "\n",
    "**Output:**\n",
    "\n",
    "true\n"
   ]
  },
  {
   "cell_type": "code",
   "execution_count": 9,
   "id": "4bff7e79",
   "metadata": {},
   "outputs": [
    {
     "name": "stdout",
     "output_type": "stream",
     "text": [
      "True\n"
     ]
    }
   ],
   "source": [
    "def rotateString(s, goal):\n",
    "    if len(s) != len(goal):\n",
    "        return False\n",
    "    concatenated = s + s\n",
    "    return goal in concatenated\n",
    "s = \"abcde\"\n",
    "goal = \"cdeab\"\n",
    "print(rotateString(s, goal))  \n"
   ]
  },
  {
   "cell_type": "markdown",
   "id": "4acdc9d0",
   "metadata": {},
   "source": [
    "Given two strings s and t, return true *if they are equal when both are typed into empty text editors*. '#' means a backspace character.\n",
    "\n",
    "Note that after backspacing an empty text, the text will continue empty.\n",
    "\n",
    "**Example 1:**\n",
    "\n",
    "**Input:** s = \"ab#c\", t = \"ad#c\"\n",
    "\n",
    "**Output:** true\n",
    "\n",
    "**Explanation:**\n",
    "\n",
    "Both s and t become \"ac\"."
   ]
  },
  {
   "cell_type": "code",
   "execution_count": 10,
   "id": "db01b284",
   "metadata": {},
   "outputs": [
    {
     "name": "stdout",
     "output_type": "stream",
     "text": [
      "True\n"
     ]
    }
   ],
   "source": [
    "def backspaceCompare(s, t):\n",
    "    s_stack = []\n",
    "    t_stack = []\n",
    "\n",
    "    for c in s:\n",
    "        if c != '#':\n",
    "            s_stack.append(c)\n",
    "        elif s_stack:\n",
    "            s_stack.pop()\n",
    "\n",
    "    for c in t:\n",
    "        if c != '#':\n",
    "            t_stack.append(c)\n",
    "        elif t_stack:\n",
    "            t_stack.pop()\n",
    "\n",
    "    return s_stack == t_stack\n",
    "s = \"ab#c\"\n",
    "t = \"ad#c\"\n",
    "print(backspaceCompare(s, t))  "
   ]
  },
  {
   "cell_type": "markdown",
   "id": "c931a5a0",
   "metadata": {},
   "source": [
    "You are given an array coordinates, coordinates[i] = [x, y], where [x, y] represents the coordinate of a point. Check if these points make a straight line in the XY plane."
   ]
  },
  {
   "cell_type": "code",
   "execution_count": 11,
   "id": "a78480ff",
   "metadata": {},
   "outputs": [
    {
     "name": "stdout",
     "output_type": "stream",
     "text": [
      "True\n"
     ]
    }
   ],
   "source": [
    "def checkStraightLine(coordinates):\n",
    "    x1, y1 = coordinates[0]\n",
    "    x2, y2 = coordinates[1]\n",
    "    initial_slope = (y2 - y1) / (x2 - x1)\n",
    "\n",
    "    for i in range(2, len(coordinates)):\n",
    "        x, y = coordinates[i]\n",
    "        current_slope = (y - y1) / (x - x1)\n",
    "        if current_slope != initial_slope:\n",
    "            return False\n",
    "\n",
    "    return True\n",
    "coordinates = [[1,2],[2,3],[3,4],[4,5],[5,6],[6,7]]\n",
    "print(checkStraightLine(coordinates))"
   ]
  },
  {
   "cell_type": "code",
   "execution_count": null,
   "id": "7fdd35a5",
   "metadata": {},
   "outputs": [],
   "source": []
  }
 ],
 "metadata": {
  "kernelspec": {
   "display_name": "Python 3 (ipykernel)",
   "language": "python",
   "name": "python3"
  },
  "language_info": {
   "codemirror_mode": {
    "name": "ipython",
    "version": 3
   },
   "file_extension": ".py",
   "mimetype": "text/x-python",
   "name": "python",
   "nbconvert_exporter": "python",
   "pygments_lexer": "ipython3",
   "version": "3.9.12"
  }
 },
 "nbformat": 4,
 "nbformat_minor": 5
}
