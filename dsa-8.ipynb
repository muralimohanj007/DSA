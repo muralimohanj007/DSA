{
 "cells": [
  {
   "cell_type": "markdown",
   "id": "9e19115b",
   "metadata": {},
   "source": [
    "💡 **Question 1**\n",
    "\n",
    "Given two strings s1 and s2, return *the lowest **ASCII** sum of deleted characters to make two strings equal*.\n",
    "\n",
    "**Example 1:**\n",
    "\n",
    "**Input:** s1 = \"sea\", s2 = \"eat\"\n",
    "\n",
    "**Output:** 231\n",
    "\n",
    "**Explanation:** Deleting \"s\" from \"sea\" adds the ASCII value of \"s\" (115) to the sum.\n",
    "\n",
    "Deleting \"t\" from \"eat\" adds 116 to the sum.\n",
    "\n",
    "At the end, both strings are equal, and 115 + 116 = 231 is the minimum sum possible to achieve this.\n"
   ]
  },
  {
   "cell_type": "code",
   "execution_count": 1,
   "id": "4516a325",
   "metadata": {},
   "outputs": [
    {
     "name": "stdout",
     "output_type": "stream",
     "text": [
      "231\n"
     ]
    }
   ],
   "source": [
    "def minimumDeleteSum(s1, s2):\n",
    "    m, n = len(s1), len(s2)\n",
    "    dp = [[0] * (n+1) for _ in range(m+1)]\n",
    "\n",
    "    for i in range(1, m+1):\n",
    "        dp[i][0] = dp[i-1][0] + ord(s1[i-1])\n",
    "\n",
    "    for j in range(1, n+1):\n",
    "        dp[0][j] = dp[0][j-1] + ord(s2[j-1])\n",
    "\n",
    "    for i in range(1, m+1):\n",
    "        for j in range(1, n+1):\n",
    "            if s1[i-1] == s2[j-1]:\n",
    "                dp[i][j] = dp[i-1][j-1]\n",
    "            else:\n",
    "                dp[i][j] = min(dp[i-1][j] + ord(s1[i-1]), dp[i][j-1] + ord(s2[j-1]))\n",
    "\n",
    "    return dp[m][n]\n",
    "s1 = \"sea\"\n",
    "s2 = \"eat\"\n",
    "print(minimumDeleteSum(s1, s2))  \n"
   ]
  },
  {
   "cell_type": "markdown",
   "id": "543ba18f",
   "metadata": {},
   "source": [
    "Given a string s containing only three types of characters: '(', ')' and '*', return true *if* s *is **valid***.\n",
    "\n",
    "The following rules define a **valid** string:\n",
    "\n",
    "- Any left parenthesis '(' must have a corresponding right parenthesis ')'.\n",
    "- Any right parenthesis ')' must have a corresponding left parenthesis '('.\n",
    "- Left parenthesis '(' must go before the corresponding right parenthesis ')'.\n",
    "- '*' could be treated as a single right parenthesis ')' or a single left parenthesis '(' or an empty string \"\".\n",
    "\n",
    "**Example 1:**\n",
    "\n",
    "**Input:** s = \"()\"\n",
    "\n",
    "**Output:**\n",
    "\n",
    "true"
   ]
  },
  {
   "cell_type": "code",
   "execution_count": 2,
   "id": "b6682cf7",
   "metadata": {},
   "outputs": [
    {
     "name": "stdout",
     "output_type": "stream",
     "text": [
      "True\n"
     ]
    }
   ],
   "source": [
    "def checkValidString(s):\n",
    "    stack = []\n",
    "    for c in s:\n",
    "        if c == '(' or c == '*':\n",
    "            stack.append(c)\n",
    "        elif c == ')':\n",
    "            if stack and stack[-1] == '(':\n",
    "                stack.pop()\n",
    "            else:\n",
    "                stack.append(c)\n",
    "    while stack:\n",
    "        if stack.pop() == '(':\n",
    "            return False\n",
    "\n",
    "    return True\n",
    "s = \"()\"\n",
    "print(checkValidString(s))"
   ]
  },
  {
   "cell_type": "markdown",
   "id": "2c715ce3",
   "metadata": {},
   "source": [
    "Given two strings word1 and word2, return *the minimum number of **steps** required to make* word1 *and* word2 *the same*.\n",
    "\n",
    "In one **step**, you can delete exactly one character in either string.\n",
    "\n",
    "**Example 1:**\n",
    "\n",
    "**Input:** word1 = \"sea\", word2 = \"eat\"\n",
    "\n",
    "**Output:** 2\n",
    "\n",
    "**Explanation:** You need one step to make \"sea\" to \"ea\" and another step to make \"eat\" to \"ea\"."
   ]
  },
  {
   "cell_type": "code",
   "execution_count": 3,
   "id": "9de9715c",
   "metadata": {},
   "outputs": [
    {
     "name": "stdout",
     "output_type": "stream",
     "text": [
      "2\n"
     ]
    }
   ],
   "source": [
    "def minDistance(word1, word2):\n",
    "    m, n = len(word1), len(word2)\n",
    "    dp = [[0] * (n+1) for _ in range(m+1)]\n",
    "\n",
    "    for i in range(1, m+1):\n",
    "        dp[i][0] = dp[i-1][0] + 1\n",
    "\n",
    "    for j in range(1, n+1):\n",
    "        dp[0][j] = dp[0][j-1] + 1\n",
    "\n",
    "    for i in range(1, m+1):\n",
    "        for j in range(1, n+1):\n",
    "            if word1[i-1] == word2[j-1]:\n",
    "                dp[i][j] = dp[i-1][j-1]\n",
    "            else:\n",
    "                dp[i][j] = min(dp[i-1][j] + 1, dp[i][j-1] + 1)\n",
    "\n",
    "    return dp[m][n]\n",
    "word1 = \"sea\"\n",
    "word2 = \"eat\"\n",
    "print(minDistance(word1, word2))  \n"
   ]
  },
  {
   "cell_type": "markdown",
   "id": "040263c3",
   "metadata": {},
   "source": [
    "\n",
    "💡 **Question 4**\n",
    "\n",
    "You need to construct a binary tree from a string consisting of parenthesis and integers.\n",
    "\n",
    "The whole input represents a binary tree. It contains an integer followed by zero, one or two pairs of parenthesis. The integer represents the root's value and a pair of parenthesis contains a child binary tree with the same structure.\n",
    "You always start to construct the **left** child node of the parent first if it exists.\n"
   ]
  },
  {
   "cell_type": "code",
   "execution_count": 10,
   "id": "ee5cba7d",
   "metadata": {},
   "outputs": [
    {
     "name": "stdout",
     "output_type": "stream",
     "text": [
      "[4, 2, 3, 1, 6, 5]\n"
     ]
    }
   ],
   "source": [
    "class TreeNode:\n",
    "    def __init__(self, val=0, left=None, right=None):\n",
    "        self.val = val\n",
    "        self.left = left\n",
    "        self.right = right\n",
    "\n",
    "def buildTree(s):\n",
    "    if not s:\n",
    "        return None\n",
    "\n",
    "    stack = []\n",
    "    i = 0\n",
    "\n",
    "    while i < len(s):\n",
    "        if s[i].isdigit() or s[i] == '-':\n",
    "            j = i\n",
    "            while i < len(s) and (s[i].isdigit() or s[i] == '-'):\n",
    "                i += 1\n",
    "            num = int(s[j:i])\n",
    "            node = TreeNode(num)\n",
    "            if stack:\n",
    "                if stack[-1].left is None:\n",
    "                    stack[-1].left = node\n",
    "                else:\n",
    "                    stack[-1].right = node\n",
    "            stack.append(node)\n",
    "        elif s[i] == ')':\n",
    "            stack.pop()\n",
    "        i += 1\n",
    "\n",
    "    return stack[0] if stack else None\n",
    "\n",
    "def preorderTraversal(node, result):\n",
    "    if node is None:\n",
    "        return\n",
    "\n",
    "    result.append(node.val)\n",
    "    preorderTraversal(node.left, result)\n",
    "    preorderTraversal(node.right, result)\n",
    "\n",
    "s = \"4(2(3)(1))(6(5))\"\n",
    "root = buildTree(s)\n",
    "result = []\n",
    "preorderTraversal(root, result)\n",
    "result = list(dict.fromkeys(result))\n",
    "\n",
    "print(result)\n"
   ]
  },
  {
   "cell_type": "markdown",
   "id": "a9d8a334",
   "metadata": {},
   "source": [
    "Given an array of characters chars, compress it using the following algorithm:\n",
    "\n",
    "Begin with an empty string s. For each group of **consecutive repeating characters** in chars:\n",
    "\n",
    "- If the group's length is 1, append the character to s.\n",
    "- Otherwise, append the character followed by the group's length.\n",
    "\n",
    "The compressed string s **should not be returned separately**, but instead, be stored **in the input character array chars**. Note that group lengths that are 10 or longer will be split into multiple characters in chars.\n",
    "\n",
    "After you are done **modifying the input array,** return *the new length of the array*.\n",
    "\n",
    "You must write an algorithm that uses only constant extra space.\n",
    "\n",
    "**Example 1:**\n",
    "\n",
    "**Input:** chars = [\"a\",\"a\",\"b\",\"b\",\"c\",\"c\",\"c\"]\n",
    "\n",
    "**Output:** Return 6, and the first 6 characters of the input array should be: [\"a\",\"2\",\"b\",\"2\",\"c\",\"3\"]\n",
    "\n",
    "**Explanation:**\n",
    "\n",
    "The groups are \"aa\", \"bb\", and \"ccc\". This compresses to \"a2b2c3\"."
   ]
  },
  {
   "cell_type": "code",
   "execution_count": 14,
   "id": "9290d034",
   "metadata": {},
   "outputs": [
    {
     "name": "stdout",
     "output_type": "stream",
     "text": [
      "6\n",
      "['a', '2', 'b', '2', 'c', '3']\n"
     ]
    }
   ],
   "source": [
    "def compress(chars):\n",
    "    read = 0\n",
    "    write = 0\n",
    "    count = 1\n",
    "\n",
    "    for read in range(1, len(chars)):\n",
    "        if chars[read] == chars[read-1]:\n",
    "            count += 1\n",
    "        else:\n",
    "            chars[write] = chars[read-1]\n",
    "            if count > 1:\n",
    "                digit_count = len(str(count))\n",
    "                chars[write+1:write+1+digit_count] = list(str(count))\n",
    "                write += digit_count\n",
    "            write += 1\n",
    "            count = 1\n",
    "\n",
    "    chars[write] = chars[read]\n",
    "    if count > 1:\n",
    "        digit_count = len(str(count))\n",
    "        chars[write+1:write+1+digit_count] = list(str(count))\n",
    "        write += digit_count\n",
    "\n",
    "    return write + 1\n",
    "chars = [\"a\",\"a\",\"b\",\"b\",\"c\",\"c\",\"c\"]\n",
    "new_length = compress(chars)\n",
    "print(new_length) \n",
    "print(chars[:new_length]) \n"
   ]
  },
  {
   "cell_type": "markdown",
   "id": "560e85b4",
   "metadata": {},
   "source": [
    "Given two strings s and p, return *an array of all the start indices of* p*'s anagrams in* s. You may return the answer in **any order**.\n",
    "\n",
    "An **Anagram** is a word or phrase formed by rearranging the letters of a different word or phrase, typically using all the original letters exactly once.\n",
    "\n",
    "**Example 1:**\n",
    "\n",
    "**Input:** s = \"cbaebabacd\", p = \"abc\"\n",
    "\n",
    "**Output:** [0,6]\n",
    "\n",
    "**Explanation:**\n",
    "\n",
    "The substring with start index = 0 is \"cba\", which is an anagram of \"abc\".\n",
    "\n",
    "The substring with start index = 6 is \"bac\", which is an anagram of \"abc\"."
   ]
  },
  {
   "cell_type": "code",
   "execution_count": 15,
   "id": "d2d9725e",
   "metadata": {},
   "outputs": [
    {
     "name": "stdout",
     "output_type": "stream",
     "text": [
      "[0, 6]\n"
     ]
    }
   ],
   "source": [
    "def findAnagrams(s, p):\n",
    "    target_counts = {}\n",
    "    window_counts = {}\n",
    "    for char in p:\n",
    "        target_counts[char] = target_counts.get(char, 0) + 1\n",
    "\n",
    "    left = 0\n",
    "    match_count = 0\n",
    "    result = []\n",
    "\n",
    "    for right in range(len(s)):\n",
    "        char_right = s[right]\n",
    "        window_counts[char_right] = window_counts.get(char_right, 0) + 1\n",
    "\n",
    "        if char_right in target_counts and window_counts[char_right] == target_counts[char_right]:\n",
    "            match_count += 1\n",
    "\n",
    "        if right - left + 1 == len(p):\n",
    "            if match_count == len(target_counts):\n",
    "                result.append(left)\n",
    "\n",
    "            char_left = s[left]\n",
    "            window_counts[char_left] -= 1\n",
    "\n",
    "            if char_left in target_counts and window_counts[char_left] < target_counts[char_left]:\n",
    "                match_count -= 1\n",
    "\n",
    "            left += 1\n",
    "\n",
    "    return result\n",
    "s = \"cbaebabacd\"\n",
    "p = \"abc\"\n",
    "print(findAnagrams(s, p))  \n"
   ]
  },
  {
   "cell_type": "markdown",
   "id": "3c3f6288",
   "metadata": {},
   "source": [
    "\n",
    "💡 **Question 7**\n",
    "\n",
    "Given an encoded string, return its decoded string.\n",
    "\n",
    "The encoding rule is: k[encoded_string], where the encoded_string inside the square brackets is being repeated exactly k times. Note that k is guaranteed to be a positive integer.\n",
    "\n",
    "You may assume that the input string is always valid; there are no extra white spaces, square brackets are well-formed, etc. Furthermore, you may assume that the original data does not contain any digits and that digits are only for those repeat numbers, k. For example, there will not be input like 3a or 2[4].\n",
    "\n",
    "The test cases are generated so that the length of the output will never exceed 105.\n",
    "\n",
    "**Example 1:**\n",
    "\n",
    "**Input:** s = \"3[a]2[bc]\"\n",
    "\n",
    "**Output:** \"aaabcbc\"\n",
    "\n"
   ]
  },
  {
   "cell_type": "code",
   "execution_count": 16,
   "id": "64c7cf7a",
   "metadata": {},
   "outputs": [
    {
     "name": "stdout",
     "output_type": "stream",
     "text": [
      "aaabcbc\n"
     ]
    }
   ],
   "source": [
    "def decodeString(s):\n",
    "    stack = []\n",
    "    current_string = \"\"\n",
    "    current_num = 0\n",
    "\n",
    "    for ch in s:\n",
    "        if ch.isdigit():\n",
    "            current_num = current_num * 10 + int(ch)\n",
    "        elif ch.isalpha():\n",
    "            current_string += ch\n",
    "        elif ch == \"[\":\n",
    "            stack.append((current_string, current_num))\n",
    "            current_string = \"\"\n",
    "            current_num = 0\n",
    "        elif ch == \"]\":\n",
    "            prev_string, prev_num = stack.pop()\n",
    "            current_string = prev_string + prev_num * current_string\n",
    "\n",
    "    return current_string\n",
    "\n",
    "s = \"3[a]2[bc]\"\n",
    "print(decodeString(s))  \n"
   ]
  },
  {
   "cell_type": "markdown",
   "id": "6fc7724d",
   "metadata": {},
   "source": [
    "Given two strings s and goal, return true *if you can swap two letters in* s *so the result is equal to* goal*, otherwise, return* false*.*\n",
    "\n",
    "Swapping letters is defined as taking two indices i and j (0-indexed) such that i != j and swapping the characters at s[i] and s[j].\n",
    "\n",
    "- For example, swapping at indices 0 and 2 in \"abcd\" results in \"cbad\".\n",
    "\n",
    "**Example 1:**\n",
    "\n",
    "**Input:** s = \"ab\", goal = \"ba\"\n",
    "\n",
    "**Output:** true\n",
    "\n",
    "**Explanation:** You can swap s[0] = 'a' and s[1] = 'b' to get \"ba\", which is equal to goal."
   ]
  },
  {
   "cell_type": "code",
   "execution_count": 4,
   "id": "5379c4d7",
   "metadata": {},
   "outputs": [
    {
     "name": "stdout",
     "output_type": "stream",
     "text": [
      "True\n"
     ]
    }
   ],
   "source": [
    "def buddyStrings(s, goal):\n",
    "    if len(s) != len(goal):\n",
    "        return False\n",
    "\n",
    "    if s == goal:\n",
    "        return len(set(s)) < len(s)\n",
    "\n",
    "    diff = []\n",
    "    indexes = []\n",
    "\n",
    "    for i in range(len(s)):\n",
    "        if s[i] != goal[i]:\n",
    "            diff.append(s[i])\n",
    "            indexes.append(i)\n",
    "\n",
    "    if len(diff) != 2:\n",
    "        return False\n",
    "\n",
    "    return s[indexes[0]] == goal[indexes[1]] and s[indexes[1]] == goal[indexes[0]]\n",
    "\n",
    "s = \"ab\"\n",
    "goal = \"ba\"\n",
    "can_swap = buddyStrings(s, goal)\n",
    "print(can_swap)  \n"
   ]
  }
 ],
 "metadata": {
  "kernelspec": {
   "display_name": "Python 3 (ipykernel)",
   "language": "python",
   "name": "python3"
  },
  "language_info": {
   "codemirror_mode": {
    "name": "ipython",
    "version": 3
   },
   "file_extension": ".py",
   "mimetype": "text/x-python",
   "name": "python",
   "nbconvert_exporter": "python",
   "pygments_lexer": "ipython3",
   "version": "3.9.12"
  }
 },
 "nbformat": 4,
 "nbformat_minor": 5
}
